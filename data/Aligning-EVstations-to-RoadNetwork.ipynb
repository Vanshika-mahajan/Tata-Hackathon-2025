{
 "cells": [
  {
   "cell_type": "code",
   "execution_count": 1,
   "id": "3a978715-1eb5-4c03-a96f-ece624b9aadc",
   "metadata": {},
   "outputs": [],
   "source": [
    "import osmnx as ox\n",
    "import pandas as pd\n",
    "import os"
   ]
  },
  {
   "cell_type": "code",
   "execution_count": 2,
   "id": "6964c14e-70de-47fd-98d2-4bba1a850689",
   "metadata": {},
   "outputs": [
    {
     "data": {
      "text/plain": [
       "'C:\\\\Users\\\\91628\\\\Tata-Hackathon-2025\\\\data'"
      ]
     },
     "execution_count": 2,
     "metadata": {},
     "output_type": "execute_result"
    }
   ],
   "source": [
    "pwd"
   ]
  },
  {
   "cell_type": "code",
   "execution_count": 3,
   "id": "feddbcbf-6f2f-419b-a64c-34971cf131a6",
   "metadata": {},
   "outputs": [
    {
     "name": "stdout",
     "output_type": "stream",
     "text": [
      " Volume in drive C has no label.\n",
      " Volume Serial Number is F248-05BE\n",
      "\n",
      " Directory of C:\\Users\\91628\\Tata-Hackathon-2025\\data\n",
      "\n",
      "29-07-2025  00:45    <DIR>          .\n",
      "29-07-2025  00:45    <DIR>          ..\n",
      "29-07-2025  00:29    <DIR>          .ipynb_checkpoints\n",
      "29-07-2025  00:05    <DIR>          cache\n",
      "28-07-2025  22:38             1,946 cleaned-EV-Dataset.csv\n",
      "28-07-2025  23:19            65,404 ev_charging_stations_granular.json\n",
      "28-07-2025  23:52            18,905 final_ev_stations.csv\n",
      "28-07-2025  23:59            42,297 Granular-EVStationData.ipynb\n",
      "29-07-2025  00:29             3,985 importing-map.ipynb\n",
      "29-07-2025  00:22       188,952,073 road_network_Delhi_India.graphml\n",
      "28-07-2025  17:20               760 RS_Session_266_AU_2960_B_i.csv\n",
      "28-07-2025  17:15               768 RS_Session_267_AU_3266_2_0.csv\n",
      "28-07-2025  22:25             1,105 RS_Session_267_AU_3924_A.csv\n",
      "28-07-2025  17:22               128 RS_Session_267_AU_580_A.csv\n",
      "28-07-2025  17:17             1,216 RS_Session_267_AU_581_C_i.csv\n",
      "28-07-2025  23:57                72 Untitled.ipynb\n",
      "29-07-2025  00:45             9,665 Untitled1.ipynb\n",
      "              13 File(s)    189,098,324 bytes\n",
      "               4 Dir(s)   9,207,877,632 bytes free\n"
     ]
    }
   ],
   "source": [
    "ls"
   ]
  },
  {
   "cell_type": "code",
   "execution_count": 7,
   "id": "b1765ae8-180b-4569-b502-f5febcc83852",
   "metadata": {},
   "outputs": [],
   "source": [
    "# --- Load the Road Network Graph ---\n",
    "data_folder = ''\n",
    "graph_file_name = \"road_network_Delhi_India.graphml\"\n",
    "graph_file_path = os.path.join(data_folder, graph_file_name)"
   ]
  },
  {
   "cell_type": "code",
   "execution_count": 9,
   "id": "630b778e-4920-4f2f-baf2-86c122cbff50",
   "metadata": {},
   "outputs": [],
   "source": [
    "G = ox.load_graphml(filepath=graph_file_path)"
   ]
  },
  {
   "cell_type": "code",
   "execution_count": 11,
   "id": "92a9f25c-0354-444d-83bb-a7f447c6e161",
   "metadata": {},
   "outputs": [],
   "source": [
    "# ---  Load the Cleaned EV Stations Data ---\n",
    "final_cleaned_file = 'final_ev_stations.csv'\n",
    "# os.path.join('', 'final_ev_stations.csv') results in 'final_ev_stations.csv'\n",
    "final_cleaned_file_path = os.path.join(data_folder, final_cleaned_file)"
   ]
  },
  {
   "cell_type": "code",
   "execution_count": 13,
   "id": "1c44e838-2e93-4fab-9b8f-f31c3778713f",
   "metadata": {},
   "outputs": [
    {
     "name": "stdout",
     "output_type": "stream",
     "text": [
      "Loading df_stations from: final_ev_stations.csv\n",
      "Loaded df_stations (Shape: (116, 11))\n"
     ]
    }
   ],
   "source": [
    "print(f\"Loading df_stations from: {final_cleaned_file_path}\")\n",
    "df_stations = pd.read_csv(final_cleaned_file_path)\n",
    "print(f\"Loaded df_stations (Shape: {df_stations.shape})\")"
   ]
  },
  {
   "cell_type": "code",
   "execution_count": 15,
   "id": "1e99e440-cda8-4170-a11e-6418a6bcc744",
   "metadata": {},
   "outputs": [
    {
     "name": "stdout",
     "output_type": "stream",
     "text": [
      "\n",
      "--- Finding nearest graph nodes for charging stations (this might take a moment)... ---\n",
      "  Processed 50/116 stations.\n",
      "  Processed 100/116 stations.\n",
      "  Processed 116/116 stations.\n",
      "\n",
      "--- Successfully found nearest nodes! ---\n",
      "Shape of df_stations after aligning: (116, 12)\n",
      "\n",
      "--- First 5 Rows with 'nearest_node' (df_stations.head()) ---\n"
     ]
    },
    {
     "data": {
      "text/html": [
       "<div>\n",
       "<style scoped>\n",
       "    .dataframe tbody tr th:only-of-type {\n",
       "        vertical-align: middle;\n",
       "    }\n",
       "\n",
       "    .dataframe tbody tr th {\n",
       "        vertical-align: top;\n",
       "    }\n",
       "\n",
       "    .dataframe thead th {\n",
       "        text-align: right;\n",
       "    }\n",
       "</style>\n",
       "<table border=\"1\" class=\"dataframe\">\n",
       "  <thead>\n",
       "    <tr style=\"text-align: right;\">\n",
       "      <th></th>\n",
       "      <th>address</th>\n",
       "      <th>city</th>\n",
       "      <th>availability_status</th>\n",
       "      <th>latitude</th>\n",
       "      <th>longitude</th>\n",
       "      <th>station_name</th>\n",
       "      <th>pincode</th>\n",
       "      <th>pricing</th>\n",
       "      <th>state</th>\n",
       "      <th>charger_type_code</th>\n",
       "      <th>charger_type_details</th>\n",
       "      <th>nearest_node</th>\n",
       "    </tr>\n",
       "  </thead>\n",
       "  <tbody>\n",
       "    <tr>\n",
       "      <th>0</th>\n",
       "      <td>EESL EDC Parking Goa</td>\n",
       "      <td>Goa</td>\n",
       "      <td>1</td>\n",
       "      <td>15.510472</td>\n",
       "      <td>73.837222</td>\n",
       "      <td>EESL Legislative Assembly Goa</td>\n",
       "      <td>403503</td>\n",
       "      <td>free</td>\n",
       "      <td>Goa</td>\n",
       "      <td>0</td>\n",
       "      <td>AC Charger (Slow)</td>\n",
       "      <td>11524192253</td>\n",
       "    </tr>\n",
       "    <tr>\n",
       "      <th>1</th>\n",
       "      <td>SDMC Parking, R Block, GK-1, DELHI-110016</td>\n",
       "      <td>Delhi</td>\n",
       "      <td>1</td>\n",
       "      <td>28.547217</td>\n",
       "      <td>77.244324</td>\n",
       "      <td>EESL R block GK1</td>\n",
       "      <td>110016</td>\n",
       "      <td>free</td>\n",
       "      <td>Delhi</td>\n",
       "      <td>0</td>\n",
       "      <td>AC Charger (Slow)</td>\n",
       "      <td>6436645068</td>\n",
       "    </tr>\n",
       "    <tr>\n",
       "      <th>2</th>\n",
       "      <td>SDMC Parking, SDA Market, Hauz Khas, New Delhi...</td>\n",
       "      <td>Delhi</td>\n",
       "      <td>1</td>\n",
       "      <td>28.546273</td>\n",
       "      <td>77.197110</td>\n",
       "      <td>EESL SDA market</td>\n",
       "      <td>110016</td>\n",
       "      <td>free</td>\n",
       "      <td>Delhi</td>\n",
       "      <td>0</td>\n",
       "      <td>AC Charger (Slow)</td>\n",
       "      <td>4233845033</td>\n",
       "    </tr>\n",
       "    <tr>\n",
       "      <th>3</th>\n",
       "      <td>Near Tata Advance Systems, sector- 59, Noida</td>\n",
       "      <td>Noida</td>\n",
       "      <td>1</td>\n",
       "      <td>28.608947</td>\n",
       "      <td>77.362725</td>\n",
       "      <td>EESL Tata Advance Systems Noida</td>\n",
       "      <td>201301</td>\n",
       "      <td>free</td>\n",
       "      <td>Uttar Pradesh</td>\n",
       "      <td>0</td>\n",
       "      <td>AC Charger (Slow)</td>\n",
       "      <td>1820933814</td>\n",
       "    </tr>\n",
       "    <tr>\n",
       "      <th>4</th>\n",
       "      <td>EESL Feroze Gandhi Road, Lajpat Nagar, SDMC pa...</td>\n",
       "      <td>Delhi</td>\n",
       "      <td>1</td>\n",
       "      <td>28.558750</td>\n",
       "      <td>77.090957</td>\n",
       "      <td>EESL Feroze Gandhi Road Lajpat Nagar</td>\n",
       "      <td>110024</td>\n",
       "      <td>free</td>\n",
       "      <td>Delhi</td>\n",
       "      <td>0</td>\n",
       "      <td>AC Charger (Slow)</td>\n",
       "      <td>413760670</td>\n",
       "    </tr>\n",
       "  </tbody>\n",
       "</table>\n",
       "</div>"
      ],
      "text/plain": [
       "                                             address   city  \\\n",
       "0                               EESL EDC Parking Goa    Goa   \n",
       "1          SDMC Parking, R Block, GK-1, DELHI-110016  Delhi   \n",
       "2  SDMC Parking, SDA Market, Hauz Khas, New Delhi...  Delhi   \n",
       "3       Near Tata Advance Systems, sector- 59, Noida  Noida   \n",
       "4  EESL Feroze Gandhi Road, Lajpat Nagar, SDMC pa...  Delhi   \n",
       "\n",
       "   availability_status   latitude  longitude  \\\n",
       "0                    1  15.510472  73.837222   \n",
       "1                    1  28.547217  77.244324   \n",
       "2                    1  28.546273  77.197110   \n",
       "3                    1  28.608947  77.362725   \n",
       "4                    1  28.558750  77.090957   \n",
       "\n",
       "                           station_name  pincode pricing          state  \\\n",
       "0         EESL Legislative Assembly Goa   403503    free            Goa   \n",
       "1                      EESL R block GK1   110016    free          Delhi   \n",
       "2                       EESL SDA market   110016    free          Delhi   \n",
       "3       EESL Tata Advance Systems Noida   201301    free  Uttar Pradesh   \n",
       "4  EESL Feroze Gandhi Road Lajpat Nagar   110024    free          Delhi   \n",
       "\n",
       "   charger_type_code charger_type_details  nearest_node  \n",
       "0                  0    AC Charger (Slow)   11524192253  \n",
       "1                  0    AC Charger (Slow)    6436645068  \n",
       "2                  0    AC Charger (Slow)    4233845033  \n",
       "3                  0    AC Charger (Slow)    1820933814  \n",
       "4                  0    AC Charger (Slow)     413760670  "
      ]
     },
     "metadata": {},
     "output_type": "display_data"
    },
    {
     "name": "stdout",
     "output_type": "stream",
     "text": [
      "\n",
      "--- Saved aligned EV stations to aligned_ev_stations.csv ---\n",
      "\n",
      "--- Alignment of charging stations with road network complete. ---\n"
     ]
    }
   ],
   "source": [
    "# --- Find the Nearest Graph Node for Each Charging Station ---\n",
    "print(\"\\n--- Finding nearest graph nodes for charging stations (this might take a moment)... ---\")\n",
    "\n",
    "points = list(zip(df_stations['latitude'], df_stations['longitude']))\n",
    "nearest_nodes = []\n",
    "\n",
    "for i, (lat, lon) in enumerate(points):\n",
    "    # ox.distance.nearest_nodes expects (graph, x(longitude), y(latitude))\n",
    "    nearest_node = ox.distance.nearest_nodes(G, lon, lat)\n",
    "    nearest_nodes.append(nearest_node)\n",
    "    if (i + 1) % 50 == 0 or (i + 1) == len(points):\n",
    "        print(f\"  Processed {i + 1}/{len(points)} stations.\")\n",
    "\n",
    "df_stations['nearest_node'] = nearest_nodes\n",
    "\n",
    "initial_stations_count = df_stations.shape[0]\n",
    "df_stations.dropna(subset=['nearest_node'], inplace=True)\n",
    "stations_after_node_dropna = df_stations.shape[0]\n",
    "if initial_stations_count != stations_after_node_dropna:\n",
    "    print(f\"Dropped {initial_stations_count - stations_after_node_dropna} stations that couldn't be aligned with the road network.\")\n",
    "\n",
    "df_stations['nearest_node'] = df_stations['nearest_node'].astype(int)\n",
    "\n",
    "print(\"\\n--- Successfully found nearest nodes! ---\")\n",
    "print(f\"Shape of df_stations after aligning: {df_stations.shape}\")\n",
    "\n",
    "# --- 4. Final check and save ---\n",
    "print(\"\\n--- First 5 Rows with 'nearest_node' (df_stations.head()) ---\")\n",
    "display(df_stations.head())\n",
    "\n",
    "output_aligned_file_name = 'aligned_ev_stations.csv'\n",
    "output_aligned_file_path = os.path.join(data_folder, output_aligned_file_name)\n",
    "df_stations.to_csv(output_aligned_file_path, index=False)\n",
    "print(f\"\\n--- Saved aligned EV stations to {output_aligned_file_path} ---\")\n",
    "\n",
    "print(\"\\n--- Alignment of charging stations with road network complete. ---\")"
   ]
  },
  {
   "cell_type": "code",
   "execution_count": null,
   "id": "67b6d395-665d-4c04-8eb7-7014f02e844b",
   "metadata": {},
   "outputs": [],
   "source": []
  }
 ],
 "metadata": {
  "kernelspec": {
   "display_name": "Tata EV Nav (venv)",
   "language": "python",
   "name": "tata_ev_nav_venv"
  },
  "language_info": {
   "codemirror_mode": {
    "name": "ipython",
    "version": 3
   },
   "file_extension": ".py",
   "mimetype": "text/x-python",
   "name": "python",
   "nbconvert_exporter": "python",
   "pygments_lexer": "ipython3",
   "version": "3.12.4"
  }
 },
 "nbformat": 4,
 "nbformat_minor": 5
}
