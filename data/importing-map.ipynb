{
 "cells": [
  {
   "cell_type": "code",
   "execution_count": 1,
   "id": "9c826c90-3e02-42d2-8a4e-cd7aa08334f3",
   "metadata": {},
   "outputs": [],
   "source": [
    "import os\n",
    "import osmnx as ox\n",
    "import networkx as nx\n",
    "import matplotlib.pyplot as plt # For basic visualization\n",
    "import pandas as pd"
   ]
  },
  {
   "cell_type": "code",
   "execution_count": 3,
   "id": "16c98cc3-447b-4b65-b598-cf94c53760b2",
   "metadata": {},
   "outputs": [
    {
     "data": {
      "text/plain": [
       "'C:\\\\Users\\\\91628\\\\Tata-Hackathon-2025\\\\data'"
      ]
     },
     "execution_count": 3,
     "metadata": {},
     "output_type": "execute_result"
    }
   ],
   "source": [
    "pwd"
   ]
  },
  {
   "cell_type": "code",
   "execution_count": 5,
   "id": "03b8b397-9b3b-4ec2-91e1-cec31faa1fcc",
   "metadata": {},
   "outputs": [
    {
     "name": "stdout",
     "output_type": "stream",
     "text": [
      " Volume in drive C has no label.\n",
      " Volume Serial Number is F248-05BE\n",
      "\n",
      " Directory of C:\\Users\\91628\\Tata-Hackathon-2025\\data\n",
      "\n",
      "29-07-2025  00:14    <DIR>          .\n",
      "29-07-2025  00:14    <DIR>          ..\n",
      "29-07-2025  00:04    <DIR>          .ipynb_checkpoints\n",
      "29-07-2025  00:05    <DIR>          cache\n",
      "28-07-2025  22:38             1,946 cleaned-EV-Dataset.csv\n",
      "28-07-2025  23:19            65,404 ev_charging_stations_granular.json\n",
      "28-07-2025  23:52            18,905 final_ev_stations.csv\n",
      "28-07-2025  23:59            42,297 Granular-EVStationData.ipynb\n",
      "28-07-2025  17:20               760 RS_Session_266_AU_2960_B_i.csv\n",
      "28-07-2025  17:15               768 RS_Session_267_AU_3266_2_0.csv\n",
      "28-07-2025  22:25             1,105 RS_Session_267_AU_3924_A.csv\n",
      "28-07-2025  17:22               128 RS_Session_267_AU_580_A.csv\n",
      "28-07-2025  17:17             1,216 RS_Session_267_AU_581_C_i.csv\n",
      "28-07-2025  23:57                72 Untitled.ipynb\n",
      "29-07-2025  00:14             7,821 Untitled1.ipynb\n",
      "              11 File(s)        140,422 bytes\n",
      "               4 Dir(s)   9,631,608,832 bytes free\n"
     ]
    }
   ],
   "source": [
    "ls"
   ]
  },
  {
   "cell_type": "code",
   "execution_count": 7,
   "id": "58d4b4ff-b091-46dc-a12d-b81f0c4b2715",
   "metadata": {},
   "outputs": [],
   "source": [
    "df_stations = pd.read_csv(\"final_ev_stations.csv\")"
   ]
  },
  {
   "cell_type": "code",
   "execution_count": 9,
   "id": "dab6d451-7111-4efb-a374-28cf507b30f0",
   "metadata": {},
   "outputs": [],
   "source": [
    "#Using a place name (easier for initial testing)\n",
    "place_name = \"Delhi, India\"\n",
    "G = ox.graph_from_place(place_name, network_type=\"drive\", simplify=True)"
   ]
  },
  {
   "cell_type": "code",
   "execution_count": 11,
   "id": "bff0fb39-e97d-413c-b676-67df6494ecbe",
   "metadata": {},
   "outputs": [],
   "source": [
    "# --- 4. Save the Graph for Future Use ---\n",
    "# Saving the graph allows you to load it quickly later without re-downloading.\n",
    "graph_file_path = os.path.join(\"data\", f\"road_network_{place_name.replace(' ', '_').replace(',', '')}.graphml\")\n",
    "ox.save_graphml(G, filepath=graph_file_path)"
   ]
  },
  {
   "cell_type": "code",
   "execution_count": null,
   "id": "2fcc797a-1073-4e9f-a32f-46d9e779d844",
   "metadata": {},
   "outputs": [],
   "source": []
  }
 ],
 "metadata": {
  "kernelspec": {
   "display_name": "Tata EV Nav (venv)",
   "language": "python",
   "name": "tata_ev_nav_venv"
  },
  "language_info": {
   "codemirror_mode": {
    "name": "ipython",
    "version": 3
   },
   "file_extension": ".py",
   "mimetype": "text/x-python",
   "name": "python",
   "nbconvert_exporter": "python",
   "pygments_lexer": "ipython3",
   "version": "3.12.4"
  }
 },
 "nbformat": 4,
 "nbformat_minor": 5
}
